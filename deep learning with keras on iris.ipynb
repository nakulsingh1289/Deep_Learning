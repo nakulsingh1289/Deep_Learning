{
 "cells": [
  {
   "cell_type": "code",
   "execution_count": 10,
   "metadata": {},
   "outputs": [],
   "source": [
    "import numpy as np\n",
    "import pandas as pd\n",
    "from tensorflow import keras\n",
    "from tensorflow.keras.models import Sequential\n",
    "from tensorflow.keras.layers import Dropout, Dense\n",
    "from tensorflow.keras.optimizers import Adam\n"
   ]
  },
  {
   "cell_type": "code",
   "execution_count": 11,
   "metadata": {},
   "outputs": [],
   "source": [
    "dataset=pd.read_csv('iris.csv')"
   ]
  },
  {
   "cell_type": "code",
   "execution_count": 12,
   "metadata": {},
   "outputs": [
    {
     "name": "stdout",
     "output_type": "stream",
     "text": [
      "(150,)\n",
      "(150, 3)\n"
     ]
    }
   ],
   "source": [
    "X = dataset.iloc[:,1:5].values\n",
    "y = dataset.iloc[:,5].values\n",
    "#print(y)\n",
    "from sklearn.preprocessing import LabelEncoder\n",
    "encoder =  LabelEncoder()\n",
    "y1 = encoder.fit_transform(y)\n",
    "print(y1.shape)\n",
    "Y = pd.get_dummies(y1).values\n",
    "print(Y.shape)\n",
    "\n",
    "from sklearn.model_selection import train_test_split\n",
    "X_train,X_test, y_train,y_test = train_test_split(X,Y,test_size=0.2,random_state=0) "
   ]
  },
  {
   "cell_type": "code",
   "execution_count": 13,
   "metadata": {},
   "outputs": [
    {
     "name": "stdout",
     "output_type": "stream",
     "text": [
      "Model: \"sequential_1\"\n",
      "_________________________________________________________________\n",
      "Layer (type)                 Output Shape              Param #   \n",
      "=================================================================\n",
      "dense_4 (Dense)              (None, 10)                50        \n",
      "_________________________________________________________________\n",
      "dense_5 (Dense)              (None, 8)                 88        \n",
      "_________________________________________________________________\n",
      "dense_6 (Dense)              (None, 6)                 54        \n",
      "_________________________________________________________________\n",
      "dense_7 (Dense)              (None, 3)                 21        \n",
      "=================================================================\n",
      "Total params: 213\n",
      "Trainable params: 213\n",
      "Non-trainable params: 0\n",
      "_________________________________________________________________\n"
     ]
    }
   ],
   "source": [
    "model=Sequential()\n",
    "model.add(Dense(10,input_shape=(4,),activation='tanh'))\n",
    "model.add(Dense(8,activation='tanh'))\n",
    "model.add(Dense(6,activation='tanh'))\n",
    "model.add(Dense(3,activation='softmax'))\n",
    "\n",
    "model.compile(Adam(lr=0.04),'categorical_crossentropy',metrics=['accuracy'])\n",
    "\n",
    "model.summary()"
   ]
  },
  {
   "cell_type": "code",
   "execution_count": 14,
   "metadata": {},
   "outputs": [
    {
     "name": "stdout",
     "output_type": "stream",
     "text": [
      "Epoch 1/10\n",
      "120/120 [==============================] - 0s 3ms/sample - loss: 0.6421 - acc: 0.7000\n",
      "Epoch 2/10\n",
      "120/120 [==============================] - 0s 283us/sample - loss: 0.3494 - acc: 0.9333\n",
      "Epoch 3/10\n",
      "120/120 [==============================] - 0s 225us/sample - loss: 0.2092 - acc: 0.9083\n",
      "Epoch 4/10\n",
      "120/120 [==============================] - 0s 225us/sample - loss: 0.4364 - acc: 0.8167\n",
      "Epoch 5/10\n",
      "120/120 [==============================] - 0s 508us/sample - loss: 0.4430 - acc: 0.7750\n",
      "Epoch 6/10\n",
      "120/120 [==============================] - 0s 358us/sample - loss: 0.1899 - acc: 0.9333\n",
      "Epoch 7/10\n",
      "120/120 [==============================] - 0s 308us/sample - loss: 0.1827 - acc: 0.9167\n",
      "Epoch 8/10\n",
      "120/120 [==============================] - 0s 317us/sample - loss: 0.1236 - acc: 0.9667\n",
      "Epoch 9/10\n",
      "120/120 [==============================] - 0s 358us/sample - loss: 0.1084 - acc: 0.9500\n",
      "Epoch 10/10\n",
      "120/120 [==============================] - 0s 258us/sample - loss: 0.1422 - acc: 0.9333\n"
     ]
    }
   ],
   "source": [
    "model.fit(X_train,y_train,batch_size=10,epochs=10)\n",
    "y_pred = model.predict(X_test)\n",
    "\n",
    "y_test_class = np.argmax(y_test,axis=1)\n",
    "y_pred_class = np.argmax(y_pred,axis=1)"
   ]
  },
  {
   "cell_type": "code",
   "execution_count": 15,
   "metadata": {},
   "outputs": [
    {
     "name": "stdout",
     "output_type": "stream",
     "text": [
      "             precision    recall  f1-score   support\n",
      "\n",
      "          0       1.00      1.00      1.00        11\n",
      "          1       1.00      1.00      1.00        13\n",
      "          2       1.00      1.00      1.00         6\n",
      "\n",
      "avg / total       1.00      1.00      1.00        30\n",
      "\n",
      "[[11  0  0]\n",
      " [ 0 13  0]\n",
      " [ 0  0  6]]\n"
     ]
    }
   ],
   "source": [
    "from sklearn.metrics import classification_report,confusion_matrix\n",
    "print(classification_report(y_test_class,y_pred_class))\n",
    "print(confusion_matrix(y_test_class,y_pred_class))"
   ]
  },
  {
   "cell_type": "code",
   "execution_count": null,
   "metadata": {},
   "outputs": [],
   "source": []
  }
 ],
 "metadata": {
  "kernelspec": {
   "display_name": "Python 3",
   "language": "python",
   "name": "python3"
  },
  "language_info": {
   "codemirror_mode": {
    "name": "ipython",
    "version": 3
   },
   "file_extension": ".py",
   "mimetype": "text/x-python",
   "name": "python",
   "nbconvert_exporter": "python",
   "pygments_lexer": "ipython3",
   "version": "3.7.0"
  }
 },
 "nbformat": 4,
 "nbformat_minor": 2
}
