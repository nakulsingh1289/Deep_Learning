{
 "cells": [
  {
   "cell_type": "markdown",
   "metadata": {},
   "source": [
    "## MNIST classification with Dense Neural Network"
   ]
  },
  {
   "cell_type": "markdown",
   "metadata": {},
   "source": [
    "### Load Required Libraries"
   ]
  },
  {
   "cell_type": "code",
   "execution_count": 1,
   "metadata": {},
   "outputs": [
    {
     "name": "stderr",
     "output_type": "stream",
     "text": [
      "Using TensorFlow backend.\n"
     ]
    }
   ],
   "source": [
    "from keras.callbacks import ModelCheckpoint\n",
    "from keras.datasets import mnist\n",
    "from keras.models import Sequential\n",
    "from keras.layers import Dense, Dropout\n",
    "from keras.utils import np_utils\n",
    "import numpy as np"
   ]
  },
  {
   "cell_type": "markdown",
   "metadata": {},
   "source": [
    "### Load data"
   ]
  },
  {
   "cell_type": "code",
   "execution_count": 2,
   "metadata": {},
   "outputs": [],
   "source": [
    "BATCH_SIZE =128\n",
    "epochs = 10\n",
    "\n",
    "(xtrain, ytrain), (xtest, ytest) = mnist.load_data()\n",
    "\n",
    "## reshape each sample to a vector containing 784 points\n",
    "\n",
    "xtrain = xtrain.reshape(60000, 784).astype(\"float32\")/255\n",
    "xtest = xtest.reshape(10000, 784).astype(\"float32\")/255\n",
    "\n",
    "## convert label to one hot encoding\n",
    "\n",
    "ytrain = np_utils.to_categorical(ytrain, 10)\n",
    "ytest =np_utils.to_categorical(ytest, 10)\n"
   ]
  },
  {
   "cell_type": "markdown",
   "metadata": {},
   "source": [
    "### Create Sequential model with Dense and Dropout layers"
   ]
  },
  {
   "cell_type": "code",
   "execution_count": 3,
   "metadata": {},
   "outputs": [
    {
     "name": "stdout",
     "output_type": "stream",
     "text": [
      "Model: \"sequential_1\"\n",
      "_________________________________________________________________\n",
      "Layer (type)                 Output Shape              Param #   \n",
      "=================================================================\n",
      "dense_1 (Dense)              (None, 512)               401920    \n",
      "_________________________________________________________________\n",
      "dropout_1 (Dropout)          (None, 512)               0         \n",
      "_________________________________________________________________\n",
      "dense_2 (Dense)              (None, 512)               262656    \n",
      "_________________________________________________________________\n",
      "dropout_2 (Dropout)          (None, 512)               0         \n",
      "_________________________________________________________________\n",
      "dense_3 (Dense)              (None, 10)                5130      \n",
      "=================================================================\n",
      "Total params: 669,706\n",
      "Trainable params: 669,706\n",
      "Non-trainable params: 0\n",
      "_________________________________________________________________\n"
     ]
    }
   ],
   "source": [
    "model = Sequential()\n",
    "\n",
    "model.add(Dense(512, input_shape=(784,), activation='relu'))\n",
    "model.add(Dropout(0.2))\n",
    "model.add(Dense(512, activation =\"relu\"))\n",
    "model.add(Dropout(0.2))\n",
    "model.add(Dense(10, activation=\"softmax\"))\n",
    "\n",
    "model.summary()"
   ]
  },
  {
   "cell_type": "markdown",
   "metadata": {},
   "source": [
    "#### Compile and train model"
   ]
  },
  {
   "cell_type": "code",
   "execution_count": 4,
   "metadata": {},
   "outputs": [],
   "source": [
    "model.compile(optimizer=\"rmsprop\", loss=\"categorical_crossentropy\", metrics=['accuracy'])"
   ]
  },
  {
   "cell_type": "code",
   "execution_count": 5,
   "metadata": {},
   "outputs": [
    {
     "name": "stdout",
     "output_type": "stream",
     "text": [
      "Train on 45000 samples, validate on 15000 samples\n",
      "Epoch 1/10\n",
      "45000/45000 [==============================] - 28s 625us/step - loss: 0.2418 - accuracy: 0.9281 - val_loss: 0.1709 - val_accuracy: 0.9569\n",
      "Epoch 2/10\n",
      "45000/45000 [==============================] - 28s 617us/step - loss: 0.1294 - accuracy: 0.9649 - val_loss: 0.1332 - val_accuracy: 0.9683\n",
      "Epoch 3/10\n",
      "45000/45000 [==============================] - 28s 620us/step - loss: 0.1142 - accuracy: 0.9723 - val_loss: 0.1355 - val_accuracy: 0.9696\n",
      "Epoch 4/10\n",
      "45000/45000 [==============================] - 28s 620us/step - loss: 0.1036 - accuracy: 0.9756 - val_loss: 0.1524 - val_accuracy: 0.9693\n",
      "Epoch 5/10\n",
      "45000/45000 [==============================] - 27s 605us/step - loss: 0.1007 - accuracy: 0.9778 - val_loss: 0.1495 - val_accuracy: 0.9758\n",
      "Epoch 6/10\n",
      "45000/45000 [==============================] - 28s 621us/step - loss: 0.0982 - accuracy: 0.9794 - val_loss: 0.1986 - val_accuracy: 0.9716\n",
      "Epoch 7/10\n",
      "45000/45000 [==============================] - 28s 619us/step - loss: 0.0933 - accuracy: 0.9813 - val_loss: 0.1866 - val_accuracy: 0.9760\n",
      "Epoch 8/10\n",
      "45000/45000 [==============================] - 25s 560us/step - loss: 0.0888 - accuracy: 0.9822 - val_loss: 0.2054 - val_accuracy: 0.9730\n",
      "Epoch 9/10\n",
      "45000/45000 [==============================] - 25s 549us/step - loss: 0.0892 - accuracy: 0.9841 - val_loss: 0.1911 - val_accuracy: 0.9773\n",
      "Epoch 10/10\n",
      "45000/45000 [==============================] - 25s 545us/step - loss: 0.0867 - accuracy: 0.9838 - val_loss: 0.2328 - val_accuracy: 0.9735\n"
     ]
    }
   ],
   "source": [
    "history= model.fit(xtrain, ytrain, epochs= 10, verbose=1, validation_split=0.25)"
   ]
  },
  {
   "cell_type": "code",
   "execution_count": 6,
   "metadata": {},
   "outputs": [
    {
     "name": "stdout",
     "output_type": "stream",
     "text": [
      "10000/10000 [==============================] - 2s 186us/step\n",
      "[0.19687760202035776, 0.977400004863739]\n"
     ]
    }
   ],
   "source": [
    "score = model.evaluate(xtest, ytest, verbose=1)\n",
    "print(score)"
   ]
  },
  {
   "cell_type": "markdown",
   "metadata": {},
   "source": [
    "With just dense and dropout layers we can achieve a very high accuracy of 97.7%. But with the help of convolution layers and image augmentation technique accuracy can be increased."
   ]
  }
 ],
 "metadata": {
  "kernelspec": {
   "display_name": "Python 3",
   "language": "python",
   "name": "python3"
  },
  "language_info": {
   "codemirror_mode": {
    "name": "ipython",
    "version": 3
   },
   "file_extension": ".py",
   "mimetype": "text/x-python",
   "name": "python",
   "nbconvert_exporter": "python",
   "pygments_lexer": "ipython3",
   "version": "3.7.4"
  }
 },
 "nbformat": 4,
 "nbformat_minor": 2
}
