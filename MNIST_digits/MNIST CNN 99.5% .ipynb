{
 "cells": [
  {
   "cell_type": "markdown",
   "metadata": {},
   "source": [
    "# Mnist data with CNN"
   ]
  },
  {
   "cell_type": "markdown",
   "metadata": {},
   "source": [
    "## 1. Load libraries"
   ]
  },
  {
   "cell_type": "code",
   "execution_count": 1,
   "metadata": {},
   "outputs": [],
   "source": [
    "import numpy as np\n",
    "import tensorflow\n",
    "from tensorflow.keras.models import Sequential\n",
    "from tensorflow.keras.layers import Dense, Dropout, Conv2D, Flatten, MaxPooling2D\n",
    "from tensorflow.keras.optimizers import RMSprop, Adam\n",
    "from tensorflow.keras.datasets import mnist"
   ]
  },
  {
   "cell_type": "markdown",
   "metadata": {},
   "source": [
    "## 2. Prepare data"
   ]
  },
  {
   "cell_type": "code",
   "execution_count": 2,
   "metadata": {},
   "outputs": [],
   "source": [
    "(mnist_train_images, mnist_train_labels), (mnist_test_images, mnist_test_labels) = mnist.load_data()"
   ]
  },
  {
   "cell_type": "code",
   "execution_count": 3,
   "metadata": {},
   "outputs": [],
   "source": [
    "mnist_train_image=mnist_train_images[0:10000,:,:]\n",
    "mnist_train_label=mnist_train_labels[0:10000]\n",
    "mnist_test_image=mnist_train_images[0:10000,:,:]\n",
    "mnist_test_label=mnist_train_labels[0:10000]\n"
   ]
  },
  {
   "cell_type": "code",
   "execution_count": 4,
   "metadata": {},
   "outputs": [
    {
     "name": "stdout",
     "output_type": "stream",
     "text": [
      "(10000, 28, 28, 1) (10000, 28, 28, 1)\n"
     ]
    }
   ],
   "source": [
    "from tensorflow.keras import backend as K\n",
    "if K.image_data_format()=='channel_first':\n",
    "    train_image=mnist_train_image.reshape(mnist_train_image.shape[0],1,28,28)\n",
    "    test_image = mnist_test_image.reshape(mnist_test_image.shape[0], 1, 28, 28)\n",
    "    input_shape=(1,28,28)\n",
    "    \n",
    "else:\n",
    "    train_image=mnist_train_image.reshape(mnist_train_image.shape[0],28,28,1)\n",
    "    test_image=mnist_test_image.reshape(mnist_test_image.shape[0], 28, 28, 1)\n",
    "    input_shape=(28,28,1)\n",
    "    \n",
    "train_image=train_image.astype('float32')\n",
    "test_image=test_image.astype('float32')\n",
    "train_image/=255\n",
    "test_image/=255\n",
    "print(np.shape(train_image),np.shape(test_image))"
   ]
  },
  {
   "cell_type": "code",
   "execution_count": 5,
   "metadata": {},
   "outputs": [
    {
     "data": {
      "text/plain": [
       "(10000, 28, 28)"
      ]
     },
     "execution_count": 5,
     "metadata": {},
     "output_type": "execute_result"
    }
   ],
   "source": [
    "mnist_train_image.shape"
   ]
  },
  {
   "cell_type": "code",
   "execution_count": 6,
   "metadata": {},
   "outputs": [
    {
     "name": "stdout",
     "output_type": "stream",
     "text": [
      "(10000, 10)\n",
      "(10000, 10)\n"
     ]
    }
   ],
   "source": [
    "test_label=tensorflow.keras.utils.to_categorical(mnist_test_label,10)\n",
    "train_label=tensorflow.keras.utils.to_categorical(mnist_train_label,10)\n",
    "print(np.shape(test_label))\n",
    "print(np.shape(train_label))"
   ]
  },
  {
   "cell_type": "markdown",
   "metadata": {},
   "source": [
    "## 3. Build model"
   ]
  },
  {
   "cell_type": "code",
   "execution_count": 7,
   "metadata": {},
   "outputs": [],
   "source": [
    "model=Sequential()\n",
    "model.add(Conv2D(32, kernel_size=(3,3), activation='relu', input_shape=input_shape))\n",
    "model.add(Conv2D(64, kernel_size=(3,3), activation='relu'))\n",
    "model.add(MaxPooling2D(pool_size=(2,2)))\n",
    "model.add(Dropout(0.25))\n",
    "model.add(Flatten())\n",
    "model.add(Dense(128,activation='relu'))\n",
    "model.add(Dropout(0.5))\n",
    "model.add(Dense(10, activation='sigmoid'))\n"
   ]
  },
  {
   "cell_type": "code",
   "execution_count": 8,
   "metadata": {},
   "outputs": [
    {
     "name": "stdout",
     "output_type": "stream",
     "text": [
      "Model: \"sequential\"\n",
      "_________________________________________________________________\n",
      "Layer (type)                 Output Shape              Param #   \n",
      "=================================================================\n",
      "conv2d (Conv2D)              (None, 26, 26, 32)        320       \n",
      "_________________________________________________________________\n",
      "conv2d_1 (Conv2D)            (None, 24, 24, 64)        18496     \n",
      "_________________________________________________________________\n",
      "max_pooling2d (MaxPooling2D) (None, 12, 12, 64)        0         \n",
      "_________________________________________________________________\n",
      "dropout (Dropout)            (None, 12, 12, 64)        0         \n",
      "_________________________________________________________________\n",
      "flatten (Flatten)            (None, 9216)              0         \n",
      "_________________________________________________________________\n",
      "dense (Dense)                (None, 128)               1179776   \n",
      "_________________________________________________________________\n",
      "dropout_1 (Dropout)          (None, 128)               0         \n",
      "_________________________________________________________________\n",
      "dense_1 (Dense)              (None, 10)                1290      \n",
      "=================================================================\n",
      "Total params: 1,199,882\n",
      "Trainable params: 1,199,882\n",
      "Non-trainable params: 0\n",
      "_________________________________________________________________\n"
     ]
    }
   ],
   "source": [
    "model.summary()"
   ]
  },
  {
   "cell_type": "code",
   "execution_count": 9,
   "metadata": {},
   "outputs": [],
   "source": [
    "## Compile model\n",
    "model.compile(loss='categorical_crossentropy',\n",
    "             metrics=['accuracy'],\n",
    "             optimizer='adam')"
   ]
  },
  {
   "cell_type": "code",
   "execution_count": 10,
   "metadata": {},
   "outputs": [
    {
     "name": "stdout",
     "output_type": "stream",
     "text": [
      "Train on 10000 samples, validate on 10000 samples\n",
      "Epoch 1/8\n",
      "10000/10000 [==============================] - 52s 5ms/sample - loss: 0.8612 - accuracy: 0.7578 - val_loss: 0.1792 - val_accuracy: 0.9484\n",
      "Epoch 2/8\n",
      "10000/10000 [==============================] - 48s 5ms/sample - loss: 0.2979 - accuracy: 0.9236 - val_loss: 0.0904 - val_accuracy: 0.9740\n",
      "Epoch 3/8\n",
      "10000/10000 [==============================] - 45s 5ms/sample - loss: 0.1809 - accuracy: 0.9495 - val_loss: 0.0579 - val_accuracy: 0.9825\n",
      "Epoch 4/8\n",
      "10000/10000 [==============================] - 42s 4ms/sample - loss: 0.1421 - accuracy: 0.9584 - val_loss: 0.0502 - val_accuracy: 0.9853\n",
      "Epoch 5/8\n",
      "10000/10000 [==============================] - 42s 4ms/sample - loss: 0.1077 - accuracy: 0.9686 - val_loss: 0.0333 - val_accuracy: 0.9895\n",
      "Epoch 6/8\n",
      "10000/10000 [==============================] - 42s 4ms/sample - loss: 0.0900 - accuracy: 0.9719 - val_loss: 0.0289 - val_accuracy: 0.9902\n",
      "Epoch 7/8\n",
      "10000/10000 [==============================] - 40s 4ms/sample - loss: 0.0758 - accuracy: 0.9770 - val_loss: 0.0217 - val_accuracy: 0.9922\n",
      "Epoch 8/8\n",
      "10000/10000 [==============================] - 39s 4ms/sample - loss: 0.0674 - accuracy: 0.9799 - val_loss: 0.0149 - val_accuracy: 0.9958\n"
     ]
    },
    {
     "data": {
      "text/plain": [
       "<tensorflow.python.keras.callbacks.History at 0x1a6bb635708>"
      ]
     },
     "execution_count": 10,
     "metadata": {},
     "output_type": "execute_result"
    }
   ],
   "source": [
    "## train model\n",
    "model.fit(train_image,train_label,\n",
    "          batch_size=100,\n",
    "         epochs=8,\n",
    "         verbose=1,\n",
    "         validation_data=(test_image, test_label))"
   ]
  },
  {
   "cell_type": "code",
   "execution_count": 11,
   "metadata": {},
   "outputs": [
    {
     "name": "stdout",
     "output_type": "stream",
     "text": [
      "10000/10000 [==============================] - 12s 1ms/sample - loss: 0.0149 - accuracy: 0.9958\n",
      "Test loss: 0.014920969383441843\n",
      "Test accuracy: 0.9958\n"
     ]
    }
   ],
   "source": [
    "score = model.evaluate(test_image, test_label, verbose=1)\n",
    "print('Test loss:', score[0])\n",
    "print('Test accuracy:', score[1])"
   ]
  },
  {
   "cell_type": "markdown",
   "metadata": {},
   "source": [
    "Using CNN increased accuracy from 98% to 99.5% which is very great !!"
   ]
  }
 ],
 "metadata": {
  "kernelspec": {
   "display_name": "Python 3",
   "language": "python",
   "name": "python3"
  },
  "language_info": {
   "codemirror_mode": {
    "name": "ipython",
    "version": 3
   },
   "file_extension": ".py",
   "mimetype": "text/x-python",
   "name": "python",
   "nbconvert_exporter": "python",
   "pygments_lexer": "ipython3",
   "version": "3.7.4"
  }
 },
 "nbformat": 4,
 "nbformat_minor": 2
}
